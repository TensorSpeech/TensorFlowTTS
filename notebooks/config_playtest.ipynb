{
 "cells": [
  {
   "cell_type": "code",
   "execution_count": 1,
   "metadata": {},
   "outputs": [],
   "source": [
    "%load_ext memory_profiler"
   ]
  },
  {
   "cell_type": "code",
   "execution_count": 2,
   "metadata": {},
   "outputs": [
    {
     "name": "stderr",
     "output_type": "stream",
     "text": [
      "/opt/miniconda3/envs/tensorflow/lib/python3.8/site-packages/tensorflow_addons/utils/ensure_tf_install.py:54: UserWarning: Tensorflow Addons supports using Python ops for all Tensorflow versions above or equal to 2.2.0 and strictly below 2.3.0 (nightly versions are not supported). \n",
      " The versions of TensorFlow you are currently using is 2.7.0 and is not supported. \n",
      "Some things might work, some things might not.\n",
      "If you were to encounter a bug, do not file an issue.\n",
      "If you want to make sure you're using a tested and supported configuration, either change the TensorFlow version or the TensorFlow Addons's version. \n",
      "You can find the compatibility matrix in TensorFlow Addon's readme:\n",
      "https://github.com/tensorflow/addons\n",
      "  warnings.warn(\n"
     ]
    }
   ],
   "source": [
    "import yaml\n",
    "import tensorflow as tf\n",
    "from tensorflow_tts.configs import LightSpeechConfig, MultiBandMelGANGeneratorConfig\n",
    "from tensorflow_tts.models import TFLightSpeech, TFMelGANGenerator"
   ]
  },
  {
   "cell_type": "code",
   "execution_count": 3,
   "metadata": {},
   "outputs": [],
   "source": [
    "def infer(m, l):\n",
    "    with open(m) as f:\n",
    "        melgan_config = yaml.load(f, Loader=yaml.Loader)\n",
    "\n",
    "    with open(l) as f:\n",
    "        lightspeech_config = yaml.load(f, Loader=yaml.Loader)\n",
    "    \n",
    "    lightspeech = TFLightSpeech(config=LightSpeechConfig(**lightspeech_config[\"lightspeech_params\"]))\n",
    "    generator = TFMelGANGenerator(MultiBandMelGANGeneratorConfig(**melgan_config[\"multiband_melgan_generator_params\"]))\n",
    "\n",
    "    input_ids = tf.convert_to_tensor([[1, 2, 3, 4, 5, 6, 7, 8, 9, 10]], tf.int32)\n",
    "    speaker_ids = tf.convert_to_tensor([0], tf.int32)\n",
    "    duration_gts = tf.convert_to_tensor([[50, 50, 50, 50, 50, 50, 50, 50, 50, 50]], tf.int32)\n",
    "    f0_gts = tf.convert_to_tensor([[10, 10, 10, 10, 10, 10, 10, 10, 10, 10]], tf.float32)\n",
    "    energy_gts = tf.convert_to_tensor([[10, 10, 10, 10, 10, 10, 10, 10, 10, 10]], tf.float32)\n",
    "\n",
    "    mel, *_ = lightspeech(input_ids, speaker_ids, duration_gts, f0_gts, energy_gts)\n",
    "    _ = generator(mel)"
   ]
  },
  {
   "cell_type": "code",
   "execution_count": 9,
   "metadata": {},
   "outputs": [
    {
     "name": "stdout",
     "output_type": "stream",
     "text": [
      "WARNING:tensorflow:6 out of the last 6 calls to <function TFMelGANGenerator.inference at 0x7f8838d28550> triggered tf.function retracing. Tracing is expensive and the excessive number of tracings could be due to (1) creating @tf.function repeatedly in a loop, (2) passing tensors with different shapes, (3) passing Python objects instead of tensors. For (1), please define your @tf.function outside of the loop. For (2), @tf.function has experimental_relax_shapes=True option that relaxes argument shapes that can avoid unnecessary retracing. For (3), please refer to https://www.tensorflow.org/guide/function#controlling_retracing and https://www.tensorflow.org/api_docs/python/tf/function for  more details.\n",
      "peak memory: 820.69 MiB, increment: 69.96 MiB\n"
     ]
    }
   ],
   "source": [
    "%memit infer(\"../examples/multiband_melgan_hf/conf/multiband_melgan_hf.en.mini.yml\", \"../examples/lightspeech/conf/lightspeech_englishipa_small.yaml\")"
   ]
  },
  {
   "cell_type": "code",
   "execution_count": 5,
   "metadata": {},
   "outputs": [
    {
     "name": "stdout",
     "output_type": "stream",
     "text": [
      "peak memory: 864.38 MiB, increment: 121.29 MiB\n"
     ]
    }
   ],
   "source": [
    "%memit infer(\"../examples/multiband_melgan_hf/conf/multiband_melgan_hf.en.v1.yml\", \"../examples/lightspeech/conf/lightspeech_englishipa.yaml\")"
   ]
  },
  {
   "cell_type": "code",
   "execution_count": null,
   "metadata": {},
   "outputs": [],
   "source": []
  }
 ],
 "metadata": {
  "kernelspec": {
   "display_name": "Python 3.8.15 ('tensorflow')",
   "language": "python",
   "name": "python3"
  },
  "language_info": {
   "codemirror_mode": {
    "name": "ipython",
    "version": 3
   },
   "file_extension": ".py",
   "mimetype": "text/x-python",
   "name": "python",
   "nbconvert_exporter": "python",
   "pygments_lexer": "ipython3",
   "version": "3.8.15"
  },
  "orig_nbformat": 4,
  "vscode": {
   "interpreter": {
    "hash": "ee7d7838ef53998fd22ad7449b76e48b4013ea11e59d28ee193f2cd757746339"
   }
  }
 },
 "nbformat": 4,
 "nbformat_minor": 2
}
